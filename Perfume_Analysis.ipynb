{
  "nbformat": 4,
  "nbformat_minor": 0,
  "metadata": {
    "colab": {
      "name": "Perfume_Analysis.ipynb",
      "provenance": [],
      "collapsed_sections": [],
      "authorship_tag": "ABX9TyMBVDf2KB221t7oUrz0cLHX",
      "include_colab_link": true
    },
    "kernelspec": {
      "name": "python3",
      "display_name": "Python 3"
    }
  },
  "cells": [
    {
      "cell_type": "markdown",
      "metadata": {
        "id": "view-in-github",
        "colab_type": "text"
      },
      "source": [
        "<a href=\"https://colab.research.google.com/github/ritikjain00/Perfume-Data-Analysis/blob/main/Perfume_Analysis.ipynb\" target=\"_parent\"><img src=\"https://colab.research.google.com/assets/colab-badge.svg\" alt=\"Open In Colab\"/></a>"
      ]
    },
    {
      "cell_type": "code",
      "metadata": {
        "id": "ZW154_B_yvXa"
      },
      "source": [
        "import pandas as pd\n",
        "import numpy as np\n",
        "import matplotlib.pyplot as plt\n",
        "from sklearn.preprocessing import LabelEncoder\n",
        "from sklearn.model_selection import train_test_split\n",
        "from sklearn.metrics import accuracy_score, confusion_matrix\n",
        "from sklearn.tree import DecisionTreeClassifier\n",
        "from sklearn.ensemble import RandomForestClassifier"
      ],
      "execution_count": 1,
      "outputs": []
    },
    {
      "cell_type": "code",
      "metadata": {
        "id": "6XpGyo6Y7ScY",
        "outputId": "277a602b-91de-45b0-9eb5-ed62206038ee",
        "colab": {
          "resources": {
            "http://localhost:8080/nbextensions/google.colab/files.js": {
              "data": "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",
              "ok": true,
              "headers": [
                [
                  "content-type",
                  "application/javascript"
                ]
              ],
              "status": 200,
              "status_text": "OK"
            }
          },
          "base_uri": "https://localhost:8080/",
          "height": 75
        }
      },
      "source": [
        "from google.colab import files\n",
        "file = files.upload()"
      ],
      "execution_count": 2,
      "outputs": [
        {
          "output_type": "display_data",
          "data": {
            "text/html": [
              "\n",
              "     <input type=\"file\" id=\"files-0c11cc88-0275-49fe-9122-84578775a5e8\" name=\"files[]\" multiple disabled\n",
              "        style=\"border:none\" />\n",
              "     <output id=\"result-0c11cc88-0275-49fe-9122-84578775a5e8\">\n",
              "      Upload widget is only available when the cell has been executed in the\n",
              "      current browser session. Please rerun this cell to enable.\n",
              "      </output>\n",
              "      <script src=\"/nbextensions/google.colab/files.js\"></script> "
            ],
            "text/plain": [
              "<IPython.core.display.HTML object>"
            ]
          },
          "metadata": {
            "tags": []
          }
        },
        {
          "output_type": "stream",
          "text": [
            "Saving perfume_data.xlsx to perfume_data (1).xlsx\n"
          ],
          "name": "stdout"
        }
      ]
    },
    {
      "cell_type": "code",
      "metadata": {
        "id": "yIQnhGv57j3A"
      },
      "source": [
        "data = pd.read_excel('perfume_data.xlsx',header=None)"
      ],
      "execution_count": 3,
      "outputs": []
    },
    {
      "cell_type": "code",
      "metadata": {
        "id": "9cY7g_IZ706l",
        "outputId": "ed62b98a-ec35-4e62-fc38-9866b8ac7763",
        "colab": {
          "base_uri": "https://localhost:8080/",
          "height": 282
        }
      },
      "source": [
        "print('Shape of data is: ',data.shape)\n",
        "print('\\n')\n",
        "data.head(5)"
      ],
      "execution_count": 4,
      "outputs": [
        {
          "output_type": "stream",
          "text": [
            "Shape of data is:  (20, 29)\n",
            "\n",
            "\n"
          ],
          "name": "stdout"
        },
        {
          "output_type": "execute_result",
          "data": {
            "text/html": [
              "<div>\n",
              "<style scoped>\n",
              "    .dataframe tbody tr th:only-of-type {\n",
              "        vertical-align: middle;\n",
              "    }\n",
              "\n",
              "    .dataframe tbody tr th {\n",
              "        vertical-align: top;\n",
              "    }\n",
              "\n",
              "    .dataframe thead th {\n",
              "        text-align: right;\n",
              "    }\n",
              "</style>\n",
              "<table border=\"1\" class=\"dataframe\">\n",
              "  <thead>\n",
              "    <tr style=\"text-align: right;\">\n",
              "      <th></th>\n",
              "      <th>0</th>\n",
              "      <th>1</th>\n",
              "      <th>2</th>\n",
              "      <th>3</th>\n",
              "      <th>4</th>\n",
              "      <th>5</th>\n",
              "      <th>6</th>\n",
              "      <th>7</th>\n",
              "      <th>8</th>\n",
              "      <th>9</th>\n",
              "      <th>10</th>\n",
              "      <th>11</th>\n",
              "      <th>12</th>\n",
              "      <th>13</th>\n",
              "      <th>14</th>\n",
              "      <th>15</th>\n",
              "      <th>16</th>\n",
              "      <th>17</th>\n",
              "      <th>18</th>\n",
              "      <th>19</th>\n",
              "      <th>20</th>\n",
              "      <th>21</th>\n",
              "      <th>22</th>\n",
              "      <th>23</th>\n",
              "      <th>24</th>\n",
              "      <th>25</th>\n",
              "      <th>26</th>\n",
              "      <th>27</th>\n",
              "      <th>28</th>\n",
              "    </tr>\n",
              "  </thead>\n",
              "  <tbody>\n",
              "    <tr>\n",
              "      <th>0</th>\n",
              "      <td>ajayeb</td>\n",
              "      <td>64558</td>\n",
              "      <td>64556</td>\n",
              "      <td>64543</td>\n",
              "      <td>64543</td>\n",
              "      <td>64541</td>\n",
              "      <td>64543</td>\n",
              "      <td>64543</td>\n",
              "      <td>64541</td>\n",
              "      <td>64541</td>\n",
              "      <td>64541</td>\n",
              "      <td>64541</td>\n",
              "      <td>64541</td>\n",
              "      <td>64541</td>\n",
              "      <td>64528</td>\n",
              "      <td>64528</td>\n",
              "      <td>63529</td>\n",
              "      <td>63529</td>\n",
              "      <td>64541</td>\n",
              "      <td>64541</td>\n",
              "      <td>64541</td>\n",
              "      <td>64541</td>\n",
              "      <td>64541</td>\n",
              "      <td>64541</td>\n",
              "      <td>64541</td>\n",
              "      <td>64528</td>\n",
              "      <td>64528</td>\n",
              "      <td>64528</td>\n",
              "      <td>64528</td>\n",
              "    </tr>\n",
              "    <tr>\n",
              "      <th>1</th>\n",
              "      <td>ajmal</td>\n",
              "      <td>60502</td>\n",
              "      <td>60489</td>\n",
              "      <td>61485</td>\n",
              "      <td>60487</td>\n",
              "      <td>61485</td>\n",
              "      <td>61513</td>\n",
              "      <td>60515</td>\n",
              "      <td>60500</td>\n",
              "      <td>60500</td>\n",
              "      <td>60487</td>\n",
              "      <td>60500</td>\n",
              "      <td>61526</td>\n",
              "      <td>60528</td>\n",
              "      <td>60528</td>\n",
              "      <td>60528</td>\n",
              "      <td>60500</td>\n",
              "      <td>61483</td>\n",
              "      <td>61485</td>\n",
              "      <td>60472</td>\n",
              "      <td>60472</td>\n",
              "      <td>60461</td>\n",
              "      <td>61470</td>\n",
              "      <td>60487</td>\n",
              "      <td>60487</td>\n",
              "      <td>61485</td>\n",
              "      <td>60487</td>\n",
              "      <td>60472</td>\n",
              "      <td>60472</td>\n",
              "    </tr>\n",
              "    <tr>\n",
              "      <th>2</th>\n",
              "      <td>amreaj</td>\n",
              "      <td>57040</td>\n",
              "      <td>57040</td>\n",
              "      <td>57040</td>\n",
              "      <td>58041</td>\n",
              "      <td>58041</td>\n",
              "      <td>58041</td>\n",
              "      <td>58041</td>\n",
              "      <td>57042</td>\n",
              "      <td>57042</td>\n",
              "      <td>58043</td>\n",
              "      <td>58043</td>\n",
              "      <td>58043</td>\n",
              "      <td>58043</td>\n",
              "      <td>58043</td>\n",
              "      <td>57042</td>\n",
              "      <td>58041</td>\n",
              "      <td>58041</td>\n",
              "      <td>58041</td>\n",
              "      <td>58041</td>\n",
              "      <td>58041</td>\n",
              "      <td>58041</td>\n",
              "      <td>58041</td>\n",
              "      <td>58041</td>\n",
              "      <td>58041</td>\n",
              "      <td>58041</td>\n",
              "      <td>58041</td>\n",
              "      <td>58041</td>\n",
              "      <td>58041</td>\n",
              "    </tr>\n",
              "    <tr>\n",
              "      <th>3</th>\n",
              "      <td>aood</td>\n",
              "      <td>71083</td>\n",
              "      <td>72087</td>\n",
              "      <td>71091</td>\n",
              "      <td>71095</td>\n",
              "      <td>71099</td>\n",
              "      <td>72103</td>\n",
              "      <td>71099</td>\n",
              "      <td>72099</td>\n",
              "      <td>72099</td>\n",
              "      <td>73098</td>\n",
              "      <td>72094</td>\n",
              "      <td>73094</td>\n",
              "      <td>72091</td>\n",
              "      <td>72091</td>\n",
              "      <td>72091</td>\n",
              "      <td>72095</td>\n",
              "      <td>72095</td>\n",
              "      <td>72095</td>\n",
              "      <td>72095</td>\n",
              "      <td>71095</td>\n",
              "      <td>71095</td>\n",
              "      <td>72103</td>\n",
              "      <td>71103</td>\n",
              "      <td>71103</td>\n",
              "      <td>71103</td>\n",
              "      <td>72103</td>\n",
              "      <td>72103</td>\n",
              "      <td>72098</td>\n",
              "    </tr>\n",
              "    <tr>\n",
              "      <th>4</th>\n",
              "      <td>asgar_ali</td>\n",
              "      <td>68209</td>\n",
              "      <td>68209</td>\n",
              "      <td>68216</td>\n",
              "      <td>68216</td>\n",
              "      <td>68223</td>\n",
              "      <td>68223</td>\n",
              "      <td>68223</td>\n",
              "      <td>68223</td>\n",
              "      <td>68230</td>\n",
              "      <td>68230</td>\n",
              "      <td>68230</td>\n",
              "      <td>68230</td>\n",
              "      <td>68230</td>\n",
              "      <td>68230</td>\n",
              "      <td>68223</td>\n",
              "      <td>68223</td>\n",
              "      <td>68223</td>\n",
              "      <td>68223</td>\n",
              "      <td>68230</td>\n",
              "      <td>67224</td>\n",
              "      <td>67217</td>\n",
              "      <td>67217</td>\n",
              "      <td>68223</td>\n",
              "      <td>68223</td>\n",
              "      <td>68223</td>\n",
              "      <td>68223</td>\n",
              "      <td>68223</td>\n",
              "      <td>68230</td>\n",
              "    </tr>\n",
              "  </tbody>\n",
              "</table>\n",
              "</div>"
            ],
            "text/plain": [
              "          0      1      2      3      4   ...     24     25     26     27     28\n",
              "0     ajayeb  64558  64556  64543  64543  ...  64541  64528  64528  64528  64528\n",
              "1      ajmal  60502  60489  61485  60487  ...  60487  61485  60487  60472  60472\n",
              "2     amreaj  57040  57040  57040  58041  ...  58041  58041  58041  58041  58041\n",
              "3       aood  71083  72087  71091  71095  ...  71103  71103  72103  72103  72098\n",
              "4  asgar_ali  68209  68209  68216  68216  ...  68223  68223  68223  68223  68230\n",
              "\n",
              "[5 rows x 29 columns]"
            ]
          },
          "metadata": {
            "tags": []
          },
          "execution_count": 4
        }
      ]
    },
    {
      "cell_type": "markdown",
      "metadata": {
        "id": "vi9VHACe9fBt"
      },
      "source": [
        "We need to rename the 0th column as perfume column."
      ]
    },
    {
      "cell_type": "code",
      "metadata": {
        "id": "_WOl7eYL9cie"
      },
      "source": [
        "data['perfume'] = data[0]\n",
        "data = data.drop(0, axis = 1)"
      ],
      "execution_count": 5,
      "outputs": []
    },
    {
      "cell_type": "code",
      "metadata": {
        "id": "cHS11vAO90s5",
        "outputId": "853f3c3c-72c5-4463-bd06-bdd16565aff9",
        "colab": {
          "base_uri": "https://localhost:8080/",
          "height": 226
        }
      },
      "source": [
        "data.head(5)"
      ],
      "execution_count": 6,
      "outputs": [
        {
          "output_type": "execute_result",
          "data": {
            "text/html": [
              "<div>\n",
              "<style scoped>\n",
              "    .dataframe tbody tr th:only-of-type {\n",
              "        vertical-align: middle;\n",
              "    }\n",
              "\n",
              "    .dataframe tbody tr th {\n",
              "        vertical-align: top;\n",
              "    }\n",
              "\n",
              "    .dataframe thead th {\n",
              "        text-align: right;\n",
              "    }\n",
              "</style>\n",
              "<table border=\"1\" class=\"dataframe\">\n",
              "  <thead>\n",
              "    <tr style=\"text-align: right;\">\n",
              "      <th></th>\n",
              "      <th>1</th>\n",
              "      <th>2</th>\n",
              "      <th>3</th>\n",
              "      <th>4</th>\n",
              "      <th>5</th>\n",
              "      <th>6</th>\n",
              "      <th>7</th>\n",
              "      <th>8</th>\n",
              "      <th>9</th>\n",
              "      <th>10</th>\n",
              "      <th>11</th>\n",
              "      <th>12</th>\n",
              "      <th>13</th>\n",
              "      <th>14</th>\n",
              "      <th>15</th>\n",
              "      <th>16</th>\n",
              "      <th>17</th>\n",
              "      <th>18</th>\n",
              "      <th>19</th>\n",
              "      <th>20</th>\n",
              "      <th>21</th>\n",
              "      <th>22</th>\n",
              "      <th>23</th>\n",
              "      <th>24</th>\n",
              "      <th>25</th>\n",
              "      <th>26</th>\n",
              "      <th>27</th>\n",
              "      <th>28</th>\n",
              "      <th>perfume</th>\n",
              "    </tr>\n",
              "  </thead>\n",
              "  <tbody>\n",
              "    <tr>\n",
              "      <th>0</th>\n",
              "      <td>64558</td>\n",
              "      <td>64556</td>\n",
              "      <td>64543</td>\n",
              "      <td>64543</td>\n",
              "      <td>64541</td>\n",
              "      <td>64543</td>\n",
              "      <td>64543</td>\n",
              "      <td>64541</td>\n",
              "      <td>64541</td>\n",
              "      <td>64541</td>\n",
              "      <td>64541</td>\n",
              "      <td>64541</td>\n",
              "      <td>64541</td>\n",
              "      <td>64528</td>\n",
              "      <td>64528</td>\n",
              "      <td>63529</td>\n",
              "      <td>63529</td>\n",
              "      <td>64541</td>\n",
              "      <td>64541</td>\n",
              "      <td>64541</td>\n",
              "      <td>64541</td>\n",
              "      <td>64541</td>\n",
              "      <td>64541</td>\n",
              "      <td>64541</td>\n",
              "      <td>64528</td>\n",
              "      <td>64528</td>\n",
              "      <td>64528</td>\n",
              "      <td>64528</td>\n",
              "      <td>ajayeb</td>\n",
              "    </tr>\n",
              "    <tr>\n",
              "      <th>1</th>\n",
              "      <td>60502</td>\n",
              "      <td>60489</td>\n",
              "      <td>61485</td>\n",
              "      <td>60487</td>\n",
              "      <td>61485</td>\n",
              "      <td>61513</td>\n",
              "      <td>60515</td>\n",
              "      <td>60500</td>\n",
              "      <td>60500</td>\n",
              "      <td>60487</td>\n",
              "      <td>60500</td>\n",
              "      <td>61526</td>\n",
              "      <td>60528</td>\n",
              "      <td>60528</td>\n",
              "      <td>60528</td>\n",
              "      <td>60500</td>\n",
              "      <td>61483</td>\n",
              "      <td>61485</td>\n",
              "      <td>60472</td>\n",
              "      <td>60472</td>\n",
              "      <td>60461</td>\n",
              "      <td>61470</td>\n",
              "      <td>60487</td>\n",
              "      <td>60487</td>\n",
              "      <td>61485</td>\n",
              "      <td>60487</td>\n",
              "      <td>60472</td>\n",
              "      <td>60472</td>\n",
              "      <td>ajmal</td>\n",
              "    </tr>\n",
              "    <tr>\n",
              "      <th>2</th>\n",
              "      <td>57040</td>\n",
              "      <td>57040</td>\n",
              "      <td>57040</td>\n",
              "      <td>58041</td>\n",
              "      <td>58041</td>\n",
              "      <td>58041</td>\n",
              "      <td>58041</td>\n",
              "      <td>57042</td>\n",
              "      <td>57042</td>\n",
              "      <td>58043</td>\n",
              "      <td>58043</td>\n",
              "      <td>58043</td>\n",
              "      <td>58043</td>\n",
              "      <td>58043</td>\n",
              "      <td>57042</td>\n",
              "      <td>58041</td>\n",
              "      <td>58041</td>\n",
              "      <td>58041</td>\n",
              "      <td>58041</td>\n",
              "      <td>58041</td>\n",
              "      <td>58041</td>\n",
              "      <td>58041</td>\n",
              "      <td>58041</td>\n",
              "      <td>58041</td>\n",
              "      <td>58041</td>\n",
              "      <td>58041</td>\n",
              "      <td>58041</td>\n",
              "      <td>58041</td>\n",
              "      <td>amreaj</td>\n",
              "    </tr>\n",
              "    <tr>\n",
              "      <th>3</th>\n",
              "      <td>71083</td>\n",
              "      <td>72087</td>\n",
              "      <td>71091</td>\n",
              "      <td>71095</td>\n",
              "      <td>71099</td>\n",
              "      <td>72103</td>\n",
              "      <td>71099</td>\n",
              "      <td>72099</td>\n",
              "      <td>72099</td>\n",
              "      <td>73098</td>\n",
              "      <td>72094</td>\n",
              "      <td>73094</td>\n",
              "      <td>72091</td>\n",
              "      <td>72091</td>\n",
              "      <td>72091</td>\n",
              "      <td>72095</td>\n",
              "      <td>72095</td>\n",
              "      <td>72095</td>\n",
              "      <td>72095</td>\n",
              "      <td>71095</td>\n",
              "      <td>71095</td>\n",
              "      <td>72103</td>\n",
              "      <td>71103</td>\n",
              "      <td>71103</td>\n",
              "      <td>71103</td>\n",
              "      <td>72103</td>\n",
              "      <td>72103</td>\n",
              "      <td>72098</td>\n",
              "      <td>aood</td>\n",
              "    </tr>\n",
              "    <tr>\n",
              "      <th>4</th>\n",
              "      <td>68209</td>\n",
              "      <td>68209</td>\n",
              "      <td>68216</td>\n",
              "      <td>68216</td>\n",
              "      <td>68223</td>\n",
              "      <td>68223</td>\n",
              "      <td>68223</td>\n",
              "      <td>68223</td>\n",
              "      <td>68230</td>\n",
              "      <td>68230</td>\n",
              "      <td>68230</td>\n",
              "      <td>68230</td>\n",
              "      <td>68230</td>\n",
              "      <td>68230</td>\n",
              "      <td>68223</td>\n",
              "      <td>68223</td>\n",
              "      <td>68223</td>\n",
              "      <td>68223</td>\n",
              "      <td>68230</td>\n",
              "      <td>67224</td>\n",
              "      <td>67217</td>\n",
              "      <td>67217</td>\n",
              "      <td>68223</td>\n",
              "      <td>68223</td>\n",
              "      <td>68223</td>\n",
              "      <td>68223</td>\n",
              "      <td>68223</td>\n",
              "      <td>68230</td>\n",
              "      <td>asgar_ali</td>\n",
              "    </tr>\n",
              "  </tbody>\n",
              "</table>\n",
              "</div>"
            ],
            "text/plain": [
              "       1      2      3      4      5  ...     25     26     27     28    perfume\n",
              "0  64558  64556  64543  64543  64541  ...  64528  64528  64528  64528     ajayeb\n",
              "1  60502  60489  61485  60487  61485  ...  61485  60487  60472  60472      ajmal\n",
              "2  57040  57040  57040  58041  58041  ...  58041  58041  58041  58041     amreaj\n",
              "3  71083  72087  71091  71095  71099  ...  71103  72103  72103  72098       aood\n",
              "4  68209  68209  68216  68216  68223  ...  68223  68223  68223  68230  asgar_ali\n",
              "\n",
              "[5 rows x 29 columns]"
            ]
          },
          "metadata": {
            "tags": []
          },
          "execution_count": 6
        }
      ]
    },
    {
      "cell_type": "code",
      "metadata": {
        "id": "tO0dGajO948t",
        "outputId": "1542cc68-4c8e-4e3b-fd7b-d783ceafbdec",
        "colab": {
          "base_uri": "https://localhost:8080/",
          "height": 387
        }
      },
      "source": [
        "perfumed = list(data['perfume'])\n",
        "perfumed "
      ],
      "execution_count": 7,
      "outputs": [
        {
          "output_type": "execute_result",
          "data": {
            "text/plain": [
              "['ajayeb',\n",
              " 'ajmal',\n",
              " 'amreaj',\n",
              " 'aood',\n",
              " 'asgar_ali',\n",
              " 'bukhoor',\n",
              " 'burberrry',\n",
              " 'dehenalaod',\n",
              " 'junaid',\n",
              " 'kausar',\n",
              " 'rose',\n",
              " 'solidmusk',\n",
              " 'TeaTreeOil',\n",
              " 'raspberry',\n",
              " 'RoseMusk',\n",
              " 'strawberry',\n",
              " 'constrected2',\n",
              " 'carolina_herrera',\n",
              " \"oudh_ma'alattar\",\n",
              " 'constrected']"
            ]
          },
          "metadata": {
            "tags": []
          },
          "execution_count": 7
        }
      ]
    },
    {
      "cell_type": "markdown",
      "metadata": {
        "id": "xEgyomQMBa0K"
      },
      "source": [
        "As each row in the data frame consists of 28 Odometer measurement values and the corresponding name of the Perfume. This data has to be converted into a form which has each observation as a row and each attribute as column.¶"
      ]
    },
    {
      "cell_type": "code",
      "metadata": {
        "id": "T08xODrdA3GL",
        "outputId": "2579f8ee-1ab5-470a-b007-59953f8bedb6",
        "colab": {
          "base_uri": "https://localhost:8080/",
          "height": 72
        }
      },
      "source": [
        "df = pd.DataFrame([], columns = ['Observation', 'Perfume'])\n",
        "print(df)"
      ],
      "execution_count": 8,
      "outputs": [
        {
          "output_type": "stream",
          "text": [
            "Empty DataFrame\n",
            "Columns: [Observation, Perfume]\n",
            "Index: []\n"
          ],
          "name": "stdout"
        }
      ]
    },
    {
      "cell_type": "code",
      "metadata": {
        "id": "qyYHF5k_Bq00"
      },
      "source": [
        "observations = np.array([])\n",
        "labels = np.array([])\n",
        "\n",
        "for perfume in range(len(perfumed)):\n",
        "    for i in range(27):\n",
        "        obs, label = data.iloc[perfume,i], data.iloc[perfume,-1]\n",
        "        observations = np.append(observations, obs)\n",
        "        labels = np.append(labels, label)"
      ],
      "execution_count": 9,
      "outputs": []
    },
    {
      "cell_type": "code",
      "metadata": {
        "id": "D817PGamBwzV"
      },
      "source": [
        "observations = pd.Series(observations)\n",
        "labels = pd.Series(labels)"
      ],
      "execution_count": 10,
      "outputs": []
    },
    {
      "cell_type": "code",
      "metadata": {
        "id": "mMEzQRcqBz8a"
      },
      "source": [
        "df.Observation = observations\n",
        "df.Perfume = labels"
      ],
      "execution_count": 11,
      "outputs": []
    },
    {
      "cell_type": "code",
      "metadata": {
        "id": "4FCGtwEvZpCc",
        "outputId": "4ea309f9-7efd-4ad5-ace4-8964a8788fd9",
        "colab": {
          "base_uri": "https://localhost:8080/",
          "height": 206
        }
      },
      "source": [
        "df.head()"
      ],
      "execution_count": 12,
      "outputs": [
        {
          "output_type": "execute_result",
          "data": {
            "text/html": [
              "<div>\n",
              "<style scoped>\n",
              "    .dataframe tbody tr th:only-of-type {\n",
              "        vertical-align: middle;\n",
              "    }\n",
              "\n",
              "    .dataframe tbody tr th {\n",
              "        vertical-align: top;\n",
              "    }\n",
              "\n",
              "    .dataframe thead th {\n",
              "        text-align: right;\n",
              "    }\n",
              "</style>\n",
              "<table border=\"1\" class=\"dataframe\">\n",
              "  <thead>\n",
              "    <tr style=\"text-align: right;\">\n",
              "      <th></th>\n",
              "      <th>Observation</th>\n",
              "      <th>Perfume</th>\n",
              "    </tr>\n",
              "  </thead>\n",
              "  <tbody>\n",
              "    <tr>\n",
              "      <th>0</th>\n",
              "      <td>64558.0</td>\n",
              "      <td>ajayeb</td>\n",
              "    </tr>\n",
              "    <tr>\n",
              "      <th>1</th>\n",
              "      <td>64556.0</td>\n",
              "      <td>ajayeb</td>\n",
              "    </tr>\n",
              "    <tr>\n",
              "      <th>2</th>\n",
              "      <td>64543.0</td>\n",
              "      <td>ajayeb</td>\n",
              "    </tr>\n",
              "    <tr>\n",
              "      <th>3</th>\n",
              "      <td>64543.0</td>\n",
              "      <td>ajayeb</td>\n",
              "    </tr>\n",
              "    <tr>\n",
              "      <th>4</th>\n",
              "      <td>64541.0</td>\n",
              "      <td>ajayeb</td>\n",
              "    </tr>\n",
              "  </tbody>\n",
              "</table>\n",
              "</div>"
            ],
            "text/plain": [
              "   Observation Perfume\n",
              "0      64558.0  ajayeb\n",
              "1      64556.0  ajayeb\n",
              "2      64543.0  ajayeb\n",
              "3      64543.0  ajayeb\n",
              "4      64541.0  ajayeb"
            ]
          },
          "metadata": {
            "tags": []
          },
          "execution_count": 12
        }
      ]
    },
    {
      "cell_type": "code",
      "metadata": {
        "id": "it8pRkL4B4uB",
        "outputId": "3e18d005-f7c1-497c-ef7e-c006a0035f94",
        "colab": {
          "base_uri": "https://localhost:8080/",
          "height": 206
        }
      },
      "source": [
        "#Shuffling the dataset\n",
        "df = df.sample(frac=1, random_state=10).reset_index(drop=True)\n",
        "df.head()"
      ],
      "execution_count": 13,
      "outputs": [
        {
          "output_type": "execute_result",
          "data": {
            "text/html": [
              "<div>\n",
              "<style scoped>\n",
              "    .dataframe tbody tr th:only-of-type {\n",
              "        vertical-align: middle;\n",
              "    }\n",
              "\n",
              "    .dataframe tbody tr th {\n",
              "        vertical-align: top;\n",
              "    }\n",
              "\n",
              "    .dataframe thead th {\n",
              "        text-align: right;\n",
              "    }\n",
              "</style>\n",
              "<table border=\"1\" class=\"dataframe\">\n",
              "  <thead>\n",
              "    <tr style=\"text-align: right;\">\n",
              "      <th></th>\n",
              "      <th>Observation</th>\n",
              "      <th>Perfume</th>\n",
              "    </tr>\n",
              "  </thead>\n",
              "  <tbody>\n",
              "    <tr>\n",
              "      <th>0</th>\n",
              "      <td>60093.0</td>\n",
              "      <td>burberrry</td>\n",
              "    </tr>\n",
              "    <tr>\n",
              "      <th>1</th>\n",
              "      <td>85056.0</td>\n",
              "      <td>RoseMusk</td>\n",
              "    </tr>\n",
              "    <tr>\n",
              "      <th>2</th>\n",
              "      <td>71999.0</td>\n",
              "      <td>strawberry</td>\n",
              "    </tr>\n",
              "    <tr>\n",
              "      <th>3</th>\n",
              "      <td>83382.0</td>\n",
              "      <td>TeaTreeOil</td>\n",
              "    </tr>\n",
              "    <tr>\n",
              "      <th>4</th>\n",
              "      <td>60461.0</td>\n",
              "      <td>ajmal</td>\n",
              "    </tr>\n",
              "  </tbody>\n",
              "</table>\n",
              "</div>"
            ],
            "text/plain": [
              "   Observation     Perfume\n",
              "0      60093.0   burberrry\n",
              "1      85056.0    RoseMusk\n",
              "2      71999.0  strawberry\n",
              "3      83382.0  TeaTreeOil\n",
              "4      60461.0       ajmal"
            ]
          },
          "metadata": {
            "tags": []
          },
          "execution_count": 13
        }
      ]
    },
    {
      "cell_type": "code",
      "metadata": {
        "id": "TpHmCsPqB7Pm",
        "outputId": "78addb0a-f6fd-4377-c4eb-d5d321fe9a59",
        "colab": {
          "base_uri": "https://localhost:8080/",
          "height": 351
        }
      },
      "source": [
        "df.groupby('Perfume').mean().plot(kind='bar', figsize=(10,4))\n",
        "plt.ylabel('Mean of measurements')\n",
        "plt.show()"
      ],
      "execution_count": 14,
      "outputs": [
        {
          "output_type": "display_data",
          "data": {
            "image/png": "[encoded data removed]",
            "text/plain": [
              "<Figure size 720x288 with 1 Axes>"
            ]
          },
          "metadata": {
            "tags": [],
            "needs_background": "light"
          }
        }
      ]
    },
    {
      "cell_type": "code",
      "metadata": {
        "id": "bxuvf0hkZ3Qt",
        "outputId": "076efe99-2437-4550-fb97-fe28e6864aba",
        "colab": {
          "base_uri": "https://localhost:8080/",
          "height": 708
        }
      },
      "source": [
        "df.groupby('Perfume').mean()"
      ],
      "execution_count": 15,
      "outputs": [
        {
          "output_type": "execute_result",
          "data": {
            "text/html": [
              "<div>\n",
              "<style scoped>\n",
              "    .dataframe tbody tr th:only-of-type {\n",
              "        vertical-align: middle;\n",
              "    }\n",
              "\n",
              "    .dataframe tbody tr th {\n",
              "        vertical-align: top;\n",
              "    }\n",
              "\n",
              "    .dataframe thead th {\n",
              "        text-align: right;\n",
              "    }\n",
              "</style>\n",
              "<table border=\"1\" class=\"dataframe\">\n",
              "  <thead>\n",
              "    <tr style=\"text-align: right;\">\n",
              "      <th></th>\n",
              "      <th>Observation</th>\n",
              "    </tr>\n",
              "    <tr>\n",
              "      <th>Perfume</th>\n",
              "      <th></th>\n",
              "    </tr>\n",
              "  </thead>\n",
              "  <tbody>\n",
              "    <tr>\n",
              "      <th>RoseMusk</th>\n",
              "      <td>85056.000000</td>\n",
              "    </tr>\n",
              "    <tr>\n",
              "      <th>TeaTreeOil</th>\n",
              "      <td>82428.111111</td>\n",
              "    </tr>\n",
              "    <tr>\n",
              "      <th>ajayeb</th>\n",
              "      <td>64465.111111</td>\n",
              "    </tr>\n",
              "    <tr>\n",
              "      <th>ajmal</th>\n",
              "      <td>60790.148148</td>\n",
              "    </tr>\n",
              "    <tr>\n",
              "      <th>amreaj</th>\n",
              "      <td>57819.148148</td>\n",
              "    </tr>\n",
              "    <tr>\n",
              "      <th>aood</th>\n",
              "      <td>71800.074074</td>\n",
              "    </tr>\n",
              "    <tr>\n",
              "      <th>asgar_ali</th>\n",
              "      <td>68111.740741</td>\n",
              "    </tr>\n",
              "    <tr>\n",
              "      <th>bukhoor</th>\n",
              "      <td>70269.111111</td>\n",
              "    </tr>\n",
              "    <tr>\n",
              "      <th>burberrry</th>\n",
              "      <td>60462.185185</td>\n",
              "    </tr>\n",
              "    <tr>\n",
              "      <th>carolina_herrera</th>\n",
              "      <td>64208.666667</td>\n",
              "    </tr>\n",
              "    <tr>\n",
              "      <th>constrected</th>\n",
              "      <td>65628.074074</td>\n",
              "    </tr>\n",
              "    <tr>\n",
              "      <th>constrected2</th>\n",
              "      <td>66568.814815</td>\n",
              "    </tr>\n",
              "    <tr>\n",
              "      <th>dehenalaod</th>\n",
              "      <td>68806.259259</td>\n",
              "    </tr>\n",
              "    <tr>\n",
              "      <th>junaid</th>\n",
              "      <td>72194.111111</td>\n",
              "    </tr>\n",
              "    <tr>\n",
              "      <th>kausar</th>\n",
              "      <td>73995.185185</td>\n",
              "    </tr>\n",
              "    <tr>\n",
              "      <th>oudh_ma'alattar</th>\n",
              "      <td>66834.555556</td>\n",
              "    </tr>\n",
              "    <tr>\n",
              "      <th>raspberry</th>\n",
              "      <td>79443.444444</td>\n",
              "    </tr>\n",
              "    <tr>\n",
              "      <th>rose</th>\n",
              "      <td>62887.888889</td>\n",
              "    </tr>\n",
              "    <tr>\n",
              "      <th>solidmusk</th>\n",
              "      <td>46014.814815</td>\n",
              "    </tr>\n",
              "    <tr>\n",
              "      <th>strawberry</th>\n",
              "      <td>71665.666667</td>\n",
              "    </tr>\n",
              "  </tbody>\n",
              "</table>\n",
              "</div>"
            ],
            "text/plain": [
              "                   Observation\n",
              "Perfume                       \n",
              "RoseMusk          85056.000000\n",
              "TeaTreeOil        82428.111111\n",
              "ajayeb            64465.111111\n",
              "ajmal             60790.148148\n",
              "amreaj            57819.148148\n",
              "aood              71800.074074\n",
              "asgar_ali         68111.740741\n",
              "bukhoor           70269.111111\n",
              "burberrry         60462.185185\n",
              "carolina_herrera  64208.666667\n",
              "constrected       65628.074074\n",
              "constrected2      66568.814815\n",
              "dehenalaod        68806.259259\n",
              "junaid            72194.111111\n",
              "kausar            73995.185185\n",
              "oudh_ma'alattar   66834.555556\n",
              "raspberry         79443.444444\n",
              "rose              62887.888889\n",
              "solidmusk         46014.814815\n",
              "strawberry        71665.666667"
            ]
          },
          "metadata": {
            "tags": []
          },
          "execution_count": 15
        }
      ]
    },
    {
      "cell_type": "code",
      "metadata": {
        "id": "MTE2ZlEqaGOj"
      },
      "source": [
        "le = LabelEncoder()\n",
        "df['Label'] = le.fit_transform(df.Perfume)"
      ],
      "execution_count": 16,
      "outputs": []
    },
    {
      "cell_type": "code",
      "metadata": {
        "id": "FMxzNyy_aXD2"
      },
      "source": [
        "X = df.Observation.to_numpy().reshape(-1, 1)\n",
        "y = df.Label"
      ],
      "execution_count": 17,
      "outputs": []
    },
    {
      "cell_type": "code",
      "metadata": {
        "id": "4gK5SyDRaaLi"
      },
      "source": [
        "X_train, X_test, y_train, y_test = train_test_split(X, y, test_size = 0.3, random_state = 10)"
      ],
      "execution_count": 18,
      "outputs": []
    },
    {
      "cell_type": "code",
      "metadata": {
        "id": "8kteqsHoai9i",
        "outputId": "b0d0df38-0c60-4705-a48b-b3bce0dd71ab",
        "colab": {
          "base_uri": "https://localhost:8080/",
          "height": 442
        }
      },
      "source": [
        "RFR = RandomForestClassifier(n_estimators=100 ,random_state=10)\n",
        "RFR.fit(X_train, y_train)\n",
        "\n",
        "y_pred_rfr = RFR.predict(X_test)\n",
        "\n",
        "print('Accuracy Score: ',  accuracy_score(y_test, y_pred_rfr))\n",
        "print('\\nConfusion matrix:\\n ', confusion_matrix(y_test, y_pred_rfr))"
      ],
      "execution_count": 19,
      "outputs": [
        {
          "output_type": "stream",
          "text": [
            "Accuracy Score:  0.9814814814814815\n",
            "\n",
            "Confusion matrix:\n",
            "  [[10  0  0  0  0  0  0  0  0  0  0  0  0  0  0  0  0  0  0  0]\n",
            " [ 0  6  0  0  0  0  0  0  0  0  0  0  0  0  0  0  0  0  0  0]\n",
            " [ 0  0  8  0  0  0  0  0  0  0  0  0  0  0  0  0  0  0  0  0]\n",
            " [ 0  0  0  4  0  0  0  0  0  0  0  0  0  0  0  0  0  0  0  0]\n",
            " [ 0  0  0  0  5  0  0  0  0  0  0  0  0  0  0  0  0  0  0  0]\n",
            " [ 0  0  0  0  0  4  0  0  0  0  0  0  0  0  0  0  0  0  0  0]\n",
            " [ 0  0  0  0  0  0 10  0  0  0  0  0  0  0  0  0  0  0  0  0]\n",
            " [ 0  0  0  0  0  0  0  5  0  0  0  0  0  0  0  0  0  0  0  0]\n",
            " [ 0  0  0  0  0  0  0  0  6  0  0  0  0  0  0  0  0  0  0  0]\n",
            " [ 0  0  0  0  0  0  0  0  0  6  0  0  0  0  0  0  0  0  0  0]\n",
            " [ 0  0  0  0  0  0  0  0  0  0  8  0  0  0  0  0  0  0  0  0]\n",
            " [ 0  0  0  0  0  0  0  0  0  0  0  8  2  0  0  0  0  0  0  0]\n",
            " [ 0  0  0  0  0  0  0  0  0  0  0  0  9  0  0  0  0  0  0  0]\n",
            " [ 0  0  0  0  0  0  0  0  0  0  0  0  0 10  0  0  0  0  0  0]\n",
            " [ 0  0  0  0  0  0  0  0  0  0  0  0  0  0  7  0  0  0  0  0]\n",
            " [ 0  0  0  0  0  0  1  0  0  0  0  0  0  0  0 11  0  0  0  0]\n",
            " [ 0  0  0  0  0  0  0  0  0  0  0  0  0  0  0  0  9  0  0  0]\n",
            " [ 0  0  0  0  0  0  0  0  0  0  0  0  0  0  0  0  0 11  0  0]\n",
            " [ 0  0  0  0  0  0  0  0  0  0  0  0  0  0  0  0  0  0 15  0]\n",
            " [ 0  0  0  0  0  0  0  0  0  0  0  0  0  0  0  0  0  0  0  7]]\n"
          ],
          "name": "stdout"
        }
      ]
    },
    {
      "cell_type": "code",
      "metadata": {
        "id": "kxuSs895bRbJ",
        "outputId": "8cad51ce-76d1-4cc7-b237-e2aedb4e9d90",
        "colab": {
          "base_uri": "https://localhost:8080/",
          "height": 442
        }
      },
      "source": [
        "DTC = DecisionTreeClassifier(random_state=10)\n",
        "DTC.fit(X_train, y_train)\n",
        "\n",
        "y_pred_dtc = DTC.predict(X_test)\n",
        "\n",
        "print('Accuracy Score: ',  accuracy_score(y_test, y_pred_dtc))\n",
        "print('\\nConfusion matrix:\\n ', confusion_matrix(y_test, y_pred_dtc))"
      ],
      "execution_count": 20,
      "outputs": [
        {
          "output_type": "stream",
          "text": [
            "Accuracy Score:  0.9814814814814815\n",
            "\n",
            "Confusion matrix:\n",
            "  [[10  0  0  0  0  0  0  0  0  0  0  0  0  0  0  0  0  0  0  0]\n",
            " [ 0  6  0  0  0  0  0  0  0  0  0  0  0  0  0  0  0  0  0  0]\n",
            " [ 0  0  8  0  0  0  0  0  0  0  0  0  0  0  0  0  0  0  0  0]\n",
            " [ 0  0  0  4  0  0  0  0  0  0  0  0  0  0  0  0  0  0  0  0]\n",
            " [ 0  0  0  0  5  0  0  0  0  0  0  0  0  0  0  0  0  0  0  0]\n",
            " [ 0  0  0  0  0  4  0  0  0  0  0  0  0  0  0  0  0  0  0  0]\n",
            " [ 0  0  0  0  0  0 10  0  0  0  0  0  0  0  0  0  0  0  0  0]\n",
            " [ 0  0  0  0  0  0  0  5  0  0  0  0  0  0  0  0  0  0  0  0]\n",
            " [ 0  0  0  0  0  0  0  0  6  0  0  0  0  0  0  0  0  0  0  0]\n",
            " [ 0  0  0  0  0  0  0  0  0  6  0  0  0  0  0  0  0  0  0  0]\n",
            " [ 0  0  0  0  0  0  0  0  0  0  8  0  0  0  0  0  0  0  0  0]\n",
            " [ 0  0  0  0  0  0  0  0  0  0  0  8  2  0  0  0  0  0  0  0]\n",
            " [ 0  0  0  0  0  0  0  0  0  0  0  0  9  0  0  0  0  0  0  0]\n",
            " [ 0  0  0  0  0  0  0  0  0  0  0  0  0 10  0  0  0  0  0  0]\n",
            " [ 0  0  0  0  0  0  0  0  0  0  0  0  0  0  7  0  0  0  0  0]\n",
            " [ 0  0  0  0  0  0  1  0  0  0  0  0  0  0  0 11  0  0  0  0]\n",
            " [ 0  0  0  0  0  0  0  0  0  0  0  0  0  0  0  0  9  0  0  0]\n",
            " [ 0  0  0  0  0  0  0  0  0  0  0  0  0  0  0  0  0 11  0  0]\n",
            " [ 0  0  0  0  0  0  0  0  0  0  0  0  0  0  0  0  0  0 15  0]\n",
            " [ 0  0  0  0  0  0  0  0  0  0  0  0  0  0  0  0  0  0  0  7]]\n"
          ],
          "name": "stdout"
        }
      ]
    },
    {
      "cell_type": "markdown",
      "metadata": {
        "id": "u7b7VZVsco4c"
      },
      "source": [
        "Both Decision Tree classifier and Random Forest Classifier shows the same accuracy.\n",
        "So both models are best fit."
      ]
    }
  ]
}